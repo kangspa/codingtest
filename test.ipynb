{
 "cells": [
  {
   "cell_type": "code",
   "execution_count": 4,
   "metadata": {},
   "outputs": [
    {
     "name": "stdout",
     "output_type": "stream",
     "text": [
      "deque([3, 6, 2])\n",
      "deque([5])\n"
     ]
    }
   ],
   "source": [
    "from collections import deque\n",
    "\n",
    "a = [5,3,6,2]\n",
    "A = deque(a)\n",
    "b = [(1,2),(3,5),(2,6),(2,1)]\n",
    "B = deque()\n",
    "B.append(A.popleft())\n",
    "print(A)\n",
    "print(B)"
   ]
  },
  {
   "cell_type": "code",
   "execution_count": 12,
   "metadata": {},
   "outputs": [
    {
     "data": {
      "text/plain": [
       "deque([[1, 3], [3, 6], [2, 7], [2, 2]])"
      ]
     },
     "execution_count": 12,
     "metadata": {},
     "output_type": "execute_result"
    }
   ],
   "source": [
    "from collections import deque\n",
    "\n",
    "t = [[1,2],[3,5],[2,6],[2,1]]\n",
    "Q = deque(t)\n",
    "for q in Q:\n",
    "    q[1] += 1\n",
    "Q"
   ]
  }
 ],
 "metadata": {
  "kernelspec": {
   "display_name": "Python 3",
   "language": "python",
   "name": "python3"
  },
  "language_info": {
   "codemirror_mode": {
    "name": "ipython",
    "version": 3
   },
   "file_extension": ".py",
   "mimetype": "text/x-python",
   "name": "python",
   "nbconvert_exporter": "python",
   "pygments_lexer": "ipython3",
   "version": "3.13.2"
  }
 },
 "nbformat": 4,
 "nbformat_minor": 2
}
